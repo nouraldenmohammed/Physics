{
 "cells": [
  {
   "cell_type": "markdown",
   "metadata": {},
   "source": [
    "## Question 1"
   ]
  },
  {
   "cell_type": "code",
   "execution_count": 4,
   "metadata": {
    "collapsed": false
   },
   "outputs": [
    {
     "data": {
      "text/plain": [
       "0.1251100357211333"
      ]
     },
     "execution_count": 4,
     "metadata": {},
     "output_type": "execute_result"
    }
   ],
   "source": [
    "import numpy as np\n",
    "import math as m\n",
    "np.exp(-10)*10**10/m.factorial(10)"
   ]
  },
  {
   "cell_type": "code",
   "execution_count": 1,
   "metadata": {
    "collapsed": false
   },
   "outputs": [
    {
     "data": {
      "text/plain": [
       "4.5399929762484854e-05"
      ]
     },
     "execution_count": 1,
     "metadata": {},
     "output_type": "execute_result"
    }
   ],
   "source": [
    "import numpy as np\n",
    "import math as m\n",
    "np.exp(-10)*10**0/m.factorial(0)"
   ]
  },
  {
   "cell_type": "code",
   "execution_count": 9,
   "metadata": {
    "collapsed": false
   },
   "outputs": [
    {
     "data": {
      "text/plain": [
       "0.00036267394923131246"
      ]
     },
     "execution_count": 9,
     "metadata": {},
     "output_type": "execute_result"
    }
   ],
   "source": [
    "np.exp(-2.*2)-np.exp(-2.01*2)"
   ]
  },
  {
   "cell_type": "markdown",
   "metadata": {},
   "source": [
    "## Question 2"
   ]
  },
  {
   "cell_type": "markdown",
   "metadata": {
    "collapsed": true
   },
   "source": [
    "a.2"
   ]
  },
  {
   "cell_type": "markdown",
   "metadata": {
    "collapsed": false
   },
   "source": [
    "From the below code we find that the lowest potential  energy for 3 charges attains at the position $0,L/2,L$"
   ]
  },
  {
   "cell_type": "code",
   "execution_count": 608,
   "metadata": {
    "collapsed": false
   },
   "outputs": [],
   "source": [
    "def a_2(length):\n",
    "    import numpy as np\n",
    "    charge_1_position=np.random.uniform(0,length+.001,100)\n",
    "    charge_2_position=np.random.uniform(0,length+.001,100)\n",
    "    charge_3_position=np.random.uniform(0,length+.001,100)\n",
    "    d=10000\n",
    "    s=0\n",
    "\n",
    "    for i in charge_1_position:\n",
    "        for j in charge_2_position:\n",
    "            for k in charge_3_position:\n",
    "                s=1/np.abs(i-j)+1/np.abs(i-k)+1/np.abs(j-k)\n",
    "                if s<d:\n",
    "                    d=s\n",
    "                    pos=(i,j,k)\n",
    "    A=[]\n",
    "    A.append(pos[0])\n",
    "    A.append(pos[1])\n",
    "    A.append(pos[2])\n",
    "    A.sort()\n",
    "    print(\"The mumium potential energy is equal to {} is attends at the positions {}\".format(d,A))"
   ]
  },
  {
   "cell_type": "code",
   "execution_count": 609,
   "metadata": {
    "collapsed": false
   },
   "outputs": [
    {
     "name": "stdout",
     "output_type": "stream",
     "text": [
      "The mumium potential energy is equal to 1.2516465299081139 is attends at the positions [0.0024649203183037594, 2.0255375932992816, 3.997721520434795]\n"
     ]
    }
   ],
   "source": [
    "a_2(4)"
   ]
  },
  {
   "cell_type": "code",
   "execution_count": null,
   "metadata": {
    "collapsed": false
   },
   "outputs": [],
   "source": []
  },
  {
   "cell_type": "markdown",
   "metadata": {},
   "source": [
    "## Question 2 (c)"
   ]
  },
  {
   "cell_type": "markdown",
   "metadata": {},
   "source": [
    " When we run this program for any length of the line or number of charges we find that in order to get a minimum potential energy, the charges must be equally spaced."
   ]
  },
  {
   "cell_type": "code",
   "execution_count": 628,
   "metadata": {
    "collapsed": false
   },
   "outputs": [],
   "source": [
    "import numpy as np\n",
    "def equbi_conf1(N=5,L=4):\n",
    "\n",
    "    \n",
    "    #x=  [i for i in np.arange(0,L+.001,L/(N-1))]\n",
    "    x=np.linspace(0,L,N)\n",
    "    #print(x)\n",
    "    min_potential = 10000\n",
    "    \n",
    "    \n",
    "    potential = np.sum([1/np.abs(x[i]-x[j]) for i in range(len(x)-1) for j in range(i+1, len(x))])\n",
    "    k=0\n",
    "    looping_condition = True\n",
    "    while looping_condition:\n",
    "    #for n in range(1100):    \n",
    "        r = np.random.random()\n",
    "        y=x.copy()\n",
    "        dx = (2*r-1)*(.1)*L/(N-1)\n",
    "        x[k]=x[k]+dx\n",
    "        if x[k]<0 or x[k]>L:\n",
    "            x[k]=L\n",
    "        k=(k+1)%N\n",
    "        try:\n",
    "            new_potential= np.sum([1/np.abs(x[i]-x[j]) for i in range(N-1) for j in range(i+1, N)])\n",
    "            if  new_potential < min_potential:\n",
    "                min_potential =  new_potential\n",
    "                configuration = x\n",
    "            else:\n",
    "                x=y.copy()\n",
    "        except ZeroDivisionError:\n",
    "            print(\"Please redo again\")\n",
    "        looping_condition = np.abs(potential-new_potential) > 1e-10\n",
    "        potential = min_potential\n",
    "    print(\"The min potential when L={} and number of charges is {} is equal to {}\".format(L,N,min_potential))\n",
    "    for i in range(len(configuration)):\n",
    "        print(\"The {} th confguration at the position {}\".format(i,configuration[i]))"
   ]
  },
  {
   "cell_type": "code",
   "execution_count": 629,
   "metadata": {
    "collapsed": false
   },
   "outputs": [
    {
     "name": "stdout",
     "output_type": "stream",
     "text": [
      "The min potential when L=4 and number of charges is 3 is equal to 1.2567184583078075\n",
      "The 0 th confguration at the position 0.0\n",
      "The 1 th confguration at the position 2.163384477323829\n",
      "The 2 th confguration at the position 4.0\n"
     ]
    },
    {
     "name": "stderr",
     "output_type": "stream",
     "text": [
      "/usr/lib/python3/dist-packages/ipykernel/__main__.py:24: RuntimeWarning: divide by zero encountered in double_scalars\n"
     ]
    }
   ],
   "source": [
    "equbi_conf1(3,4)"
   ]
  },
  {
   "cell_type": "code",
   "execution_count": 627,
   "metadata": {
    "collapsed": false
   },
   "outputs": [
    {
     "name": "stdout",
     "output_type": "stream",
     "text": [
      "The min potential when L=4 and number of charges is 5 is equal to 6.463308206604623\n",
      "The 0 th confguration at the position 0.03189588514987873\n",
      "The 1 th confguration at the position 1.0105849688652546\n",
      "The 2 th confguration at the position 2.0\n",
      "The 3 th confguration at the position 3.0\n",
      "The 4 th confguration at the position 4.0\n",
      "-----------------------------------------\n",
      "The min potential when L=4 and number of charges is 10 is equal to 43.454487361973754\n",
      "The 0 th confguration at the position 0.0\n",
      "The 1 th confguration at the position 0.4678671688143931\n",
      "The 2 th confguration at the position 0.8833374294782789\n",
      "The 3 th confguration at the position 1.3333333333333333\n",
      "The 4 th confguration at the position 1.7777777777777777\n",
      "The 5 th confguration at the position 2.2222222222222223\n",
      "The 6 th confguration at the position 2.67466642013616\n",
      "The 7 th confguration at the position 3.126317273980831\n",
      "The 8 th confguration at the position 3.5338828792377384\n",
      "The 9 th confguration at the position 4.0\n",
      "-----------------------------------------\n"
     ]
    },
    {
     "name": "stderr",
     "output_type": "stream",
     "text": [
      "/usr/lib/python3/dist-packages/ipykernel/__main__.py:23: RuntimeWarning: divide by zero encountered in double_scalars\n"
     ]
    },
    {
     "name": "stdout",
     "output_type": "stream",
     "text": [
      "The min potential when L=4 and number of charges is 50 is equal to 2140.5375249502567\n",
      "The 0 th confguration at the position 0.0026521033649024774\n",
      "The 1 th confguration at the position 0.07443342723094148\n",
      "The 2 th confguration at the position 0.1587439791077747\n",
      "The 3 th confguration at the position 0.23997915563339292\n",
      "The 4 th confguration at the position 0.3187263590862117\n",
      "The 5 th confguration at the position 0.40488998926351943\n",
      "The 6 th confguration at the position 0.4897959183673469\n",
      "The 7 th confguration at the position 0.5674794488854539\n",
      "The 8 th confguration at the position 0.650590907374203\n",
      "The 9 th confguration at the position 0.7324027819775141\n",
      "The 10 th confguration at the position 0.8131862845315309\n",
      "The 11 th confguration at the position 0.8939880936077242\n",
      "The 12 th confguration at the position 0.9795918367346939\n",
      "The 13 th confguration at the position 1.0612244897959182\n",
      "The 14 th confguration at the position 1.1424540153338454\n",
      "The 15 th confguration at the position 1.2239125819628014\n",
      "The 16 th confguration at the position 1.3057715851314253\n",
      "The 17 th confguration at the position 1.3877551020408163\n",
      "The 18 th confguration at the position 1.4693877551020407\n",
      "The 19 th confguration at the position 1.5505669043284753\n",
      "The 20 th confguration at the position 1.6322584470890928\n",
      "The 21 th confguration at the position 1.7142857142857142\n",
      "The 22 th confguration at the position 1.7959183673469385\n",
      "The 23 th confguration at the position 1.8775510204081631\n",
      "The 24 th confguration at the position 1.9591836734693877\n",
      "The 25 th confguration at the position 2.0408163265306123\n",
      "The 26 th confguration at the position 2.1224489795918364\n",
      "The 27 th confguration at the position 2.204081632653061\n",
      "The 28 th confguration at the position 2.2857142857142856\n",
      "The 29 th confguration at the position 2.36734693877551\n",
      "The 30 th confguration at the position 2.4489795918367343\n",
      "The 31 th confguration at the position 2.530612244897959\n",
      "The 32 th confguration at the position 2.6122448979591835\n",
      "The 33 th confguration at the position 2.693877551020408\n",
      "The 34 th confguration at the position 2.7755102040816326\n",
      "The 35 th confguration at the position 2.8571428571428568\n",
      "The 36 th confguration at the position 2.9387755102040813\n",
      "The 37 th confguration at the position 3.020980866866461\n",
      "The 38 th confguration at the position 3.10329700136061\n",
      "The 39 th confguration at the position 3.1864043596864375\n",
      "The 40 th confguration at the position 3.2675560206373206\n",
      "The 41 th confguration at the position 3.3509815872362543\n",
      "The 42 th confguration at the position 3.429101457378779\n",
      "The 43 th confguration at the position 3.510204081632653\n",
      "The 44 th confguration at the position 3.591836734693877\n",
      "The 45 th confguration at the position 3.680781619755584\n",
      "The 46 th confguration at the position 3.7648123004488414\n",
      "The 47 th confguration at the position 3.854232559061835\n",
      "The 48 th confguration at the position 3.9340868247767764\n",
      "The 49 th confguration at the position 4\n",
      "-----------------------------------------\n"
     ]
    }
   ],
   "source": [
    "for i in [5,10,50]:\n",
    "    equbi_conf1(i)\n",
    "    print(\"-----------------------------------------\")"
   ]
  },
  {
   "cell_type": "markdown",
   "metadata": {},
   "source": [
    "## Question 3"
   ]
  },
  {
   "cell_type": "markdown",
   "metadata": {},
   "source": [
    "## My observation:\n",
    "#### Whatever the initial guess is, after the relaxtion the potential on the nodes wil be same e.g, the potentila on the node x=6,y=2 will be 2.07.\n",
    "#### Also if we assume this equation as describing a heat transfer, on the boundary there is no heat and the maxmuim temprature on the middle, we will find that the vaules of the nodes keep increasing until we reach the middle after that keep decreasing"
   ]
  },
  {
   "cell_type": "code",
   "execution_count": 617,
   "metadata": {
    "collapsed": true
   },
   "outputs": [],
   "source": [
    " def relax_method(m=9,n=9,initial_guess=1):   \n",
    "    import numpy as np\n",
    "    import matplotlib.pyplot as plt\n",
    "    V=np.zeros((m,n))\n",
    "    x=[(i,j) for i in [3,4] for j in [3,4]]\n",
    "    for i in x:\n",
    "            V[i]=9\n",
    "    for i in range(1,m-1):\n",
    "        for j in range(1,n-1):\n",
    "            if (i,j) not in x:\n",
    "                V[i,j]=10\n",
    "    K=V.copy()\n",
    "    for i in range(1,m-1):\n",
    "            for j in range(1,n-1):\n",
    "                if (i,j) not in x:\n",
    "                    V[i,j]=(V[i+1,j]+V[i-1,j]+V[i,j+1]+V[i,j-1])/4\n",
    "\n",
    "    while not np.allclose(V,K,rtol=1e-10):\n",
    "        K=V.copy()\n",
    "        for i in range(1,m-1):\n",
    "            for j in range(1,n-1):\n",
    "                if (i,j) not in x:\n",
    "                    V[i,j]=(V[i+1,j]+V[i-1,j]+V[i,j+1]+V[i,j-1])/4\n",
    "\n",
    "    print(\" The potential at the node x=6, y =2  when the initial guess is {} the value is  {}\".format(initial_guess,V[6,2]))\n",
    "    plt.imshow(V)\n",
    "    plt.show()\n",
    "    "
   ]
  },
  {
   "cell_type": "code",
   "execution_count": 618,
   "metadata": {
    "collapsed": false
   },
   "outputs": [
    {
     "name": "stdout",
     "output_type": "stream",
     "text": [
      " The potential at the node x=6, y =2  when the initial guess is 1 the value is  2.07684497022932\n"
     ]
    },
    {
     "data": {
      "image/png": "[encoded data removed]",
      "text/plain": [
       "<Figure size 432x288 with 1 Axes>"
      ]
     },
     "metadata": {},
     "output_type": "display_data"
    }
   ],
   "source": [
    "relax_method()"
   ]
  },
  {
   "cell_type": "code",
   "execution_count": 620,
   "metadata": {
    "collapsed": false
   },
   "outputs": [
    {
     "name": "stdout",
     "output_type": "stream",
     "text": [
      " The potential at the node x=6, y =2  when the initial guess is 0 the value is  2.07684497022932\n"
     ]
    },
    {
     "data": {
      "image/png": "[encoded data removed]",
      "text/plain": [
       "<Figure size 432x288 with 1 Axes>"
      ]
     },
     "metadata": {},
     "output_type": "display_data"
    },
    {
     "name": "stdout",
     "output_type": "stream",
     "text": [
      "----------------------------------------------------------------------------------------\n",
      " The potential at the node x=6, y =2  when the initial guess is 1 the value is  2.07684497022932\n"
     ]
    },
    {
     "data": {
      "image/png": "[encoded data removed]",
      "text/plain": [
       "<Figure size 432x288 with 1 Axes>"
      ]
     },
     "metadata": {},
     "output_type": "display_data"
    },
    {
     "name": "stdout",
     "output_type": "stream",
     "text": [
      "----------------------------------------------------------------------------------------\n",
      " The potential at the node x=6, y =2  when the initial guess is 2 the value is  2.07684497022932\n"
     ]
    },
    {
     "data": {
      "image/png": "[encoded data removed]",
      "text/plain": [
       "<Figure size 432x288 with 1 Axes>"
      ]
     },
     "metadata": {},
     "output_type": "display_data"
    },
    {
     "name": "stdout",
     "output_type": "stream",
     "text": [
      "----------------------------------------------------------------------------------------\n",
      " The potential at the node x=6, y =2  when the initial guess is 3 the value is  2.07684497022932\n"
     ]
    },
    {
     "data": {
      "image/png": "[encoded data removed]",
      "text/plain": [
       "<Figure size 432x288 with 1 Axes>"
      ]
     },
     "metadata": {},
     "output_type": "display_data"
    },
    {
     "name": "stdout",
     "output_type": "stream",
     "text": [
      "----------------------------------------------------------------------------------------\n",
      " The potential at the node x=6, y =2  when the initial guess is 4 the value is  2.07684497022932\n"
     ]
    },
    {
     "data": {
      "image/png": "[encoded data removed]",
      "text/plain": [
       "<Figure size 432x288 with 1 Axes>"
      ]
     },
     "metadata": {},
     "output_type": "display_data"
    },
    {
     "name": "stdout",
     "output_type": "stream",
     "text": [
      "----------------------------------------------------------------------------------------\n",
      " The potential at the node x=6, y =2  when the initial guess is 5 the value is  2.07684497022932\n"
     ]
    },
    {
     "data": {
      "image/png": "[encoded data removed]",
      "text/plain": [
       "<Figure size 432x288 with 1 Axes>"
      ]
     },
     "metadata": {},
     "output_type": "display_data"
    },
    {
     "name": "stdout",
     "output_type": "stream",
     "text": [
      "----------------------------------------------------------------------------------------\n",
      " The potential at the node x=6, y =2  when the initial guess is 6 the value is  2.07684497022932\n"
     ]
    },
    {
     "data": {
      "image/png": "[encoded data removed]",
      "text/plain": [
       "<Figure size 432x288 with 1 Axes>"
      ]
     },
     "metadata": {},
     "output_type": "display_data"
    },
    {
     "name": "stdout",
     "output_type": "stream",
     "text": [
      "----------------------------------------------------------------------------------------\n",
      " The potential at the node x=6, y =2  when the initial guess is 7 the value is  2.07684497022932\n"
     ]
    },
    {
     "data": {
      "image/png": "[encoded data removed]",
      "text/plain": [
       "<Figure size 432x288 with 1 Axes>"
      ]
     },
     "metadata": {},
     "output_type": "display_data"
    },
    {
     "name": "stdout",
     "output_type": "stream",
     "text": [
      "----------------------------------------------------------------------------------------\n",
      " The potential at the node x=6, y =2  when the initial guess is 8 the value is  2.07684497022932\n"
     ]
    },
    {
     "data": {
      "image/png": "[encoded data removed]",
      "text/plain": [
       "<Figure size 432x288 with 1 Axes>"
      ]
     },
     "metadata": {},
     "output_type": "display_data"
    },
    {
     "name": "stdout",
     "output_type": "stream",
     "text": [
      "----------------------------------------------------------------------------------------\n",
      " The potential at the node x=6, y =2  when the initial guess is 9 the value is  2.07684497022932\n"
     ]
    },
    {
     "data": {
      "image/png": "[encoded data removed]",
      "text/plain": [
       "<Figure size 432x288 with 1 Axes>"
      ]
     },
     "metadata": {},
     "output_type": "display_data"
    },
    {
     "name": "stdout",
     "output_type": "stream",
     "text": [
      "----------------------------------------------------------------------------------------\n"
     ]
    }
   ],
   "source": [
    "for i in range(10):\n",
    "    relax_method(9,9,i)\n",
    "    print(\"----------------------------------------------------------------------------------------\")"
   ]
  },
  {
   "cell_type": "code",
   "execution_count": null,
   "metadata": {
    "collapsed": true
   },
   "outputs": [],
   "source": []
  }
 ],
 "metadata": {
  "kernelspec": {
   "display_name": "Python 3",
   "language": "python",
   "name": "python3"
  },
  "language_info": {
   "codemirror_mode": {
    "name": "ipython",
    "version": 3
   },
   "file_extension": ".py",
   "mimetype": "text/x-python",
   "name": "python",
   "nbconvert_exporter": "python",
   "pygments_lexer": "ipython3",
   "version": "3.5.3"
  }
 },
 "nbformat": 4,
 "nbformat_minor": 2
}
