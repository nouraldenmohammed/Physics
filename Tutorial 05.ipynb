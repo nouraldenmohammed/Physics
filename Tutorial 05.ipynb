{
 "cells": [
  {
   "cell_type": "code",
   "execution_count": 69,
   "metadata": {
    "collapsed": false
   },
   "outputs": [],
   "source": [
    "def question1(v1,v2,m1,m2):\n",
    "    \n",
    "    # intial momentum at labframe\n",
    "    initial_momentum = m1*v1+m2*v2 \n",
    "    \n",
    "    # initial kinetic energy at labframe\n",
    "    initial_ke = .5*m1*v1**2+.5*m2*v2**2\n",
    "    \n",
    "    # centre of mass veloctiy\n",
    "    \n",
    "    vcm = (m1*v1+m2*v2)/(m1+m2)\n",
    "    \n",
    "    # velocitiy of objects in the CMFrame before the collison\n",
    "    \n",
    "    u1 = v1-vcm\n",
    "    u2 = v2-vcm\n",
    "    \n",
    "    \n",
    "      # velocitiy of objects in the CMFrame after the collison\n",
    "    u1f = -u1\n",
    "    u2f = -u2\n",
    "    \n",
    "    # the velocitiy of objects after collison in the labframe\n",
    "    \n",
    "    v1f = v1*(m1-m2) / (m1+m2) + v2*(2*m2)/(m1+m2)\n",
    "    v2f = v1*(m1*2) / (m1+m2)+ v2* (m2-m1)/(m1+m2)\n",
    "    # final momentum after the collison at labframe\n",
    "    \n",
    "    final_momentum=m1*v1f+m2*v2f\n",
    "    \n",
    "    \n",
    "     #Final kinetic energy at labframe\n",
    "    final_ke = .5*m1*v1f**2+.5*m2*v2f**2\n",
    "    \n",
    "    #the fraction of its kinetic energy that object 1 loses in the collison\n",
    "    lose_ke_1=(.5*m1*v1**2-.5*m1*v1f**2)/(.5*m1*v1**2)\n",
    "    \n",
    "    print('''The intial momentum at labframe is {} N.s\\n \n",
    "The initial kinetic energy at labframe is {} N.m \\n\n",
    "The centre of mass veloctiy is {} m/s \\n\n",
    "The velocitiy of object 1 in the CMFrame before the collison is {} m/s \\n\n",
    "The velocitiy of object 2 in the CMFrame before the collison is {} m/s \\n\n",
    "The velocitiy of objects 1 in the CMFrame after the collison is {} m/s \\n\n",
    "The velocitiy of objects 2 in the labframe after the collison is {} m/s \\n\n",
    "The velocitiy of objects 1 in the labframe after the collison is {} m/s \\n\n",
    "The velocitiy of objects 2 in the labframe after the collison is {} m/s \\n\n",
    "The final momentum after the collison at labframe is {} N.s \\n\n",
    "Final kinetic energy at labframe is {} N.m \\n\n",
    "The fraction of its kinetic energy that object 1 loses in the collison is {} \n",
    "    '''.format(initial_momentum, initial_ke, vcm,u1,u2,u1f,u2f,v1f,v2f,final_momentum,final_ke,lose_ke_1))\n",
    "    "
   ]
  },
  {
   "cell_type": "code",
   "execution_count": 70,
   "metadata": {
    "collapsed": false
   },
   "outputs": [
    {
     "name": "stdout",
     "output_type": "stream",
     "text": [
      "The intial momentum at labframe is 0.18 N.s\n",
      " \n",
      "The initial kinetic energy at labframe is 0.27 N.m \n",
      "\n",
      "The centre of mass veloctiy is 1.7999999999999998 m/s \n",
      "\n",
      "The velocitiy of object 1 in the CMFrame before the collison is 1.2000000000000002 m/s \n",
      "\n",
      "The velocitiy of object 2 in the CMFrame before the collison is -1.7999999999999998 m/s \n",
      "\n",
      "The velocitiy of objects 1 in the CMFrame after the collison is -1.2000000000000002 m/s \n",
      "\n",
      "The velocitiy of objects 2 in the labframe after the collison is 1.7999999999999998 m/s \n",
      "\n",
      "The velocitiy of objects 1 in the labframe after the collison is 0.5999999999999999 m/s \n",
      "\n",
      "The velocitiy of objects 2 in the labframe after the collison is 3.5999999999999996 m/s \n",
      "\n",
      "The final momentum after the collison at labframe is 0.18 N.s \n",
      "\n",
      "Final kinetic energy at labframe is 0.2699999999999999 N.m \n",
      "\n",
      "The fraction of its kinetic energy that object 1 loses in the collison is 0.9600000000000001 \n",
      "    \n"
     ]
    }
   ],
   "source": [
    "question1(3,0,0.06,.04)"
   ]
  },
  {
   "cell_type": "code",
   "execution_count": null,
   "metadata": {
    "collapsed": true
   },
   "outputs": [],
   "source": []
  }
 ],
 "metadata": {
  "kernelspec": {
   "display_name": "Python 3",
   "language": "python",
   "name": "python3"
  },
  "language_info": {
   "codemirror_mode": {
    "name": "ipython",
    "version": 3
   },
   "file_extension": ".py",
   "mimetype": "text/x-python",
   "name": "python",
   "nbconvert_exporter": "python",
   "pygments_lexer": "ipython3",
   "version": "3.5.3"
  }
 },
 "nbformat": 4,
 "nbformat_minor": 2
}
