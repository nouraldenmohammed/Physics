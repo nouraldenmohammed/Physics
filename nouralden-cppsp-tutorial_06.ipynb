{
 "cells": [
  {
   "cell_type": "code",
   "execution_count": 29,
   "metadata": {
    "collapsed": false
   },
   "outputs": [
    {
     "data": {
      "text/plain": [
       "3.8284271247461903"
      ]
     },
     "execution_count": 29,
     "metadata": {},
     "output_type": "execute_result"
    }
   ],
   "source": []
  },
  {
   "cell_type": "markdown",
   "metadata": {},
   "source": [
    "## Question 2"
   ]
  },
  {
   "cell_type": "code",
   "execution_count": 127,
   "metadata": {
    "collapsed": false
   },
   "outputs": [
    {
     "data": {
      "text/plain": [
       "3.8284271247461903"
      ]
     },
     "execution_count": 127,
     "metadata": {},
     "output_type": "execute_result"
    }
   ],
   "source": [
    "2*np.sqrt(2)+1"
   ]
  },
  {
   "cell_type": "code",
   "execution_count": null,
   "metadata": {
    "collapsed": true
   },
   "outputs": [],
   "source": []
  },
  {
   "cell_type": "code",
   "execution_count": 33,
   "metadata": {
    "collapsed": false
   },
   "outputs": [
    {
     "name": "stderr",
     "output_type": "stream",
     "text": [
      "/usr/lib/python3/dist-packages/ipykernel/__main__.py:28: RuntimeWarning: divide by zero encountered in double_scalars\n"
     ]
    },
    {
     "name": "stdout",
     "output_type": "stream",
     "text": [
      "The minmum distance between the four charges is 3.798739495882569 \n",
      "\n",
      "The coordinate of the first charge is (0.8931297737805217, -0.4464860303934737, 0.06751413423051211)\n",
      "\n",
      "The coordinate of the second charge is (-0.4464860303934737, 0.8931297737805217, -0.01701718003048147)\n",
      "\n",
      "The coordinate of the third charge is (-0.4464860303934737, -0.01701718003048147, 0.8931297737805217)\n",
      "\n",
      "The coordinate of the fourth charge is (-0.01701718003048147, -0.36335390449334715, -0.9337039141347756)\n"
     ]
    }
   ],
   "source": [
    "import numpy as np\n",
    "r= np.random.uniform(-1,1,10)\n",
    "A=[(x,y,z)  for x in r for y in r for z in r if np.abs(x**2+y**2+z**2-1)<1e-2]\n",
    "B=[(x,y,z)  for x in r for y in r for z in r if np.abs(x**2+y**2+z**2-1)<1e-2]\n",
    "C=[(x,y,z)  for x in r for y in r for z in r if np.abs(x**2+y**2+z**2-1)<1e-2]\n",
    "D=[(x,y,z)  for x in r for y in r for z in r if np.abs(x**2+y**2+z**2-1)<1e-2]\n",
    "\n",
    "\n",
    "Distance=1000\n",
    "Distance_ab=0\n",
    "Distance_ac=0\n",
    "Distance_ad=0\n",
    "Distance_bc=0\n",
    "Distance_bd=0\n",
    "Distance_cd=0\n",
    "\n",
    "for i in A:\n",
    "    for j in B:\n",
    "        for k in C:\n",
    "            for l in D:\n",
    "                if i!=j!=k!=l:\n",
    "                    Distance_ab=np.sqrt((i[0]-j[0])**2+(i[1]-j[1])**2+(i[2]-j[2])**2)\n",
    "                    Distance_ac=np.sqrt((i[0]-k[0])**2+(i[1]-k[1])**2+(i[2]-k[2])**2)\n",
    "                    Distance_ad=np.sqrt((i[0]-l[0])**2+(i[1]-l[1])**2+(i[2]-l[2])**2)\n",
    "                    Distance_bc=np.sqrt((j[0]-k[0])**2+(j[1]-k[1])**2+(j[2]-k[2])**2)\n",
    "                    Distance_bd=np.sqrt((j[0]-l[0])**2+(j[1]-l[1])**2+(j[2]-l[2])**2)\n",
    "                    Distance_cd=np.sqrt((k[0]-l[0])**2+(k[1]-l[1])**2+(k[2]-l[2])**2)\n",
    "                    d=(1/Distance_ab)+(1/Distance_ac)+(1/Distance_ad)+(1/Distance_bc)+(1/Distance_bd)+(1/Distance_cd)\n",
    "                    if d<Distance:\n",
    "                        Distance=d\n",
    "                        coordinate=(i,j,k,l)\n",
    "#print(Distance,coordinate)\n",
    "print('''The minmum distance between the four charges is {} \\n\n",
    "The coordinate of the first charge is {}\\n\n",
    "The coordinate of the second charge is {}\\n\n",
    "The coordinate of the third charge is {}\\n\n",
    "The coordinate of the fourth charge is {}'''.format(Distance,coordinate[0],coordinate[1],coordinate[2],coordinate[3]))\n",
    "\n"
   ]
  },
  {
   "cell_type": "code",
   "execution_count": 42,
   "metadata": {
    "collapsed": false
   },
   "outputs": [
    {
     "data": {
      "text/plain": [
       "0.9921670060346601"
      ]
     },
     "execution_count": 42,
     "metadata": {},
     "output_type": "execute_result"
    }
   ],
   "source": [
    "np.linalg.norm([0.006012643116852345, 0.006012643116852345, -0.9921305680752308])"
   ]
  },
  {
   "cell_type": "code",
   "execution_count": 34,
   "metadata": {
    "collapsed": false
   },
   "outputs": [
    {
     "name": "stderr",
     "output_type": "stream",
     "text": [
      "/usr/lib/python3/dist-packages/ipykernel/__main__.py:28: RuntimeWarning: divide by zero encountered in double_scalars\n"
     ]
    },
    {
     "name": "stdout",
     "output_type": "stream",
     "text": [
      "The minmum distance between the four charges is 3.7255662351468546 \n",
      "\n",
      "The coordinate of the first charge is (0.006012643116852345, 0.006012643116852345, -0.9921305680752308)\n",
      "\n",
      "The coordinate of the second charge is (0.006012643116852345, -0.9921305680752308, 0.006012643116852345)\n",
      "\n",
      "The coordinate of the third charge is (-0.826203084217151, 0.44711065438709774, 0.3296591648088252)\n",
      "\n",
      "The coordinate of the fourth charge is (0.8065688347193725, 0.4133021391414602, 0.4133021391414602)\n"
     ]
    }
   ],
   "source": [
    "import numpy as np\n",
    "r= np.random.uniform(-1,1,10)\n",
    "A=[(x,y,z)  for x in r for y in r for z in r if .9<x**2+y**2+z**2<1]\n",
    "B=[(x,y,z)  for x in r for y in r for z in r if .9<x**2+y**2+z**2<1]\n",
    "C=[(x,y,z)  for x in r for y in r for z in r if .9<x**2+y**2+z**2<1]\n",
    "D=[(x,y,z)  for x in r for y in r for z in r if .9<x**2+y**2+z**2<1]\n",
    "\n",
    "\n",
    "Distance=1000\n",
    "Distance_ab=0\n",
    "Distance_ac=0\n",
    "Distance_ad=0\n",
    "Distance_bc=0\n",
    "Distance_bd=0\n",
    "Distance_cd=0\n",
    "\n",
    "for i in A:\n",
    "    for j in B:\n",
    "        for k in C:\n",
    "            for l in D:\n",
    "                if i!=j!=k!=l:\n",
    "                    Distance_ab=np.sqrt((i[0]-j[0])**2+(i[1]-j[1])**2+(i[2]-j[2])**2)\n",
    "                    Distance_ac=np.sqrt((i[0]-k[0])**2+(i[1]-k[1])**2+(i[2]-k[2])**2)\n",
    "                    Distance_ad=np.sqrt((i[0]-l[0])**2+(i[1]-l[1])**2+(i[2]-l[2])**2)\n",
    "                    Distance_bc=np.sqrt((j[0]-k[0])**2+(j[1]-k[1])**2+(j[2]-k[2])**2)\n",
    "                    Distance_bd=np.sqrt((j[0]-l[0])**2+(j[1]-l[1])**2+(j[2]-l[2])**2)\n",
    "                    Distance_cd=np.sqrt((k[0]-l[0])**2+(k[1]-l[1])**2+(k[2]-l[2])**2)\n",
    "                    d=(1/Distance_ab)+(1/Distance_ac)+(1/Distance_ad)+(1/Distance_bc)+(1/Distance_bd)+(1/Distance_cd)\n",
    "                    if d<Distance:\n",
    "                        Distance=d\n",
    "                        coordinate=(i,j,k,l)\n",
    "#print(Distance,coordinate)\n",
    "print('''The minmum distance between the four charges is {} \\n\n",
    "The coordinate of the first charge is {}\\n\n",
    "The coordinate of the second charge is {}\\n\n",
    "The coordinate of the third charge is {}\\n\n",
    "The coordinate of the fourth charge is {}'''.format(Distance,coordinate[0],coordinate[1],coordinate[2],coordinate[3]))\n",
    "\n"
   ]
  },
  {
   "cell_type": "markdown",
   "metadata": {},
   "source": [
    "## Question 3"
   ]
  },
  {
   "cell_type": "code",
   "execution_count": null,
   "metadata": {
    "collapsed": true
   },
   "outputs": [],
   "source": []
  },
  {
   "cell_type": "code",
   "execution_count": 3,
   "metadata": {
    "collapsed": true
   },
   "outputs": [],
   "source": [
    "# I assuming n=3\n",
    "def on_the_disk(radius):\n",
    "    import numpy as np\n",
    "    r= np.random.uniform(-radius,radius,50)\n",
    "    A=[(x,y)  for x in r for y in r  if np.abs(x**2+y**2-radius)<1e-2]\n",
    "    B=[(x,y)  for x in r for y in r  if np.abs(x**2+y**2-radius)<1e-2]\n",
    "    C=[(x,y)  for x in r for y in r  if np.abs(x**2+y**2-radius)<1e-2]\n",
    "    #D=[(x,y)  for x in r for y in r  if np.abs(x**2+y**2+z**2-1)<1e-2]\n",
    "\n",
    "    coordinate=(0,0,0)\n",
    "    Distance=np.infty\n",
    "    Distance_ab=0\n",
    "    Distance_ac=0\n",
    "    #Distance_ad=0\n",
    "    Distance_bc=0\n",
    "    #Distance_bd=0\n",
    "    #Distance_cd=0\n",
    "\n",
    "    for i in A:\n",
    "        for j in B:\n",
    "            for k in C:\n",
    "                if i!=j!=k:\n",
    "                    Distance_ab=np.sqrt((i[0]-j[0])**2+(i[1]-j[1])**2)\n",
    "                    Distance_ac=np.sqrt((i[0]-k[0])**2+(i[1]-k[1])**2)\n",
    "                    #Distance_ad=np.sqrt((i[0]-l[0])**2+(i[1]-l[1])**2+(i[2]-l[2])**2)\n",
    "                    Distance_bc=np.sqrt((j[0]-k[0])**2+(j[1]-k[1])**2)\n",
    "                    #Distance_bd=np.sqrt((j[0]-l[0])**2+(j[1]-l[1])**2+(j[2]-l[2])**2)\n",
    "                    #Distance_cd=np.sqrt((k[0]-l[0])**2+(k[1]-l[1])**2+(k[2]-l[2])**2)\n",
    "                    d=((1/Distance_ab)+(1/Distance_ac)+(1/Distance_bc))\n",
    "                    if d<Distance:\n",
    "                        Distance=d\n",
    "                        coordinate=(i,j,k)\n",
    "    print('''The minmum distance between the four charges is {} \\n\n",
    "The coordinate of the first charge is {}\\n\n",
    "The coordinate of the second charge is {}\\n\n",
    "The coordinate of the third charge is {}\\n\n",
    "'''.format(Distance,coordinate[0],coordinate[1],coordinate[2]))\n",
    "\n",
    "\n",
    "    "
   ]
  },
  {
   "cell_type": "code",
   "execution_count": 15,
   "metadata": {
    "collapsed": false
   },
   "outputs": [
    {
     "name": "stdout",
     "output_type": "stream",
     "text": [
      "The minmum distance between the four charges is 1.7424600948936446 \n",
      "\n",
      "The coordinate of the first charge is (0.36852185418286565, -0.9288225476941785)\n",
      "\n",
      "The coordinate of the second charge is (0.7260390130902032, 0.6875633087350002)\n",
      "\n",
      "The coordinate of the third charge is (-0.9288225476941785, 0.36852185418286565)\n",
      "\n",
      "\n"
     ]
    },
    {
     "name": "stderr",
     "output_type": "stream",
     "text": [
      "/usr/lib/python3/dist-packages/ipykernel/__main__.py:29: RuntimeWarning: divide by zero encountered in double_scalars\n"
     ]
    }
   ],
   "source": [
    "on_the_disk(1)"
   ]
  },
  {
   "cell_type": "code",
   "execution_count": 21,
   "metadata": {
    "collapsed": false
   },
   "outputs": [
    {
     "data": {
      "text/plain": [
       "0.9999379741002026"
      ]
     },
     "execution_count": 21,
     "metadata": {},
     "output_type": "execute_result"
    }
   ],
   "source": [
    "np.linalg.norm([0.7260390130902032, 0.6875633087350002])"
   ]
  },
  {
   "cell_type": "code",
   "execution_count": 57,
   "metadata": {
    "collapsed": false
   },
   "outputs": [],
   "source": [
    "def on_the_disck2(radius):\n",
    "    import numpy as np\n",
    "    for n in range(3,17):\n",
    "        theta=(2*np.pi)/n\n",
    "        arc=radius*theta\n",
    "        alpha=np.random.uniform(0,2*np.pi)\n",
    "        print(\"the minimum distance between the charges when  n is {}  is equal to {}\".format(n,arc))\n",
    "        for i in range(n):\n",
    "            x=radius*np.cos(alpha)\n",
    "            y=radius*np.sin(alpha)\n",
    "            alpha+=theta\n",
    "            print(\"the {} th coordiantes is  {},{}\".format(i+1,x,y))\n",
    "        print()"
   ]
  },
  {
   "cell_type": "code",
   "execution_count": 44,
   "metadata": {
    "collapsed": false
   },
   "outputs": [
    {
     "data": {
      "text/plain": [
       "6.283185307179586"
      ]
     },
     "execution_count": 44,
     "metadata": {},
     "output_type": "execute_result"
    }
   ],
   "source": [
    "2.0943951023931953*3"
   ]
  },
  {
   "cell_type": "code",
   "execution_count": 51,
   "metadata": {
    "collapsed": false
   },
   "outputs": [
    {
     "data": {
      "text/plain": [
       "(-0.4999999999999998, 0.8660254037844387)"
      ]
     },
     "execution_count": 51,
     "metadata": {},
     "output_type": "execute_result"
    }
   ],
   "source": [
    "np.cos(2*np.pi/3),np.sin(2*np.pi/3)"
   ]
  },
  {
   "cell_type": "code",
   "execution_count": 49,
   "metadata": {
    "collapsed": false
   },
   "outputs": [
    {
     "name": "stdout",
     "output_type": "stream",
     "text": [
      "the minimum distance between the charges when  n is 3  is equal to 2.0943951023931953\n",
      "the 1 th coordiantes is  1.0,0.0\n",
      "the 2 th coordiantes is  -0.4999999999999998,0.8660254037844387\n",
      "the 3 th coordiantes is  -0.5000000000000004,-0.8660254037844384\n",
      "\n",
      "the minimum distance between the charges when  n is 4  is equal to 1.5707963267948966\n",
      "the 1 th coordiantes is  1.0,0.0\n",
      "the 2 th coordiantes is  6.123233995736766e-17,1.0\n",
      "the 3 th coordiantes is  -1.0,1.2246467991473532e-16\n",
      "the 4 th coordiantes is  -1.8369701987210297e-16,-1.0\n",
      "\n",
      "the minimum distance between the charges when  n is 5  is equal to 1.2566370614359172\n",
      "the 1 th coordiantes is  1.0,0.0\n",
      "the 2 th coordiantes is  0.30901699437494745,0.9510565162951535\n",
      "the 3 th coordiantes is  -0.8090169943749473,0.5877852522924732\n",
      "the 4 th coordiantes is  -0.8090169943749476,-0.587785252292473\n",
      "the 5 th coordiantes is  0.30901699437494723,-0.9510565162951536\n",
      "\n",
      "the minimum distance between the charges when  n is 6  is equal to 1.0471975511965976\n",
      "the 1 th coordiantes is  1.0,0.0\n",
      "the 2 th coordiantes is  0.5000000000000001,0.8660254037844386\n",
      "the 3 th coordiantes is  -0.4999999999999998,0.8660254037844387\n",
      "the 4 th coordiantes is  -1.0,1.2246467991473532e-16\n",
      "the 5 th coordiantes is  -0.5000000000000004,-0.8660254037844384\n",
      "the 6 th coordiantes is  0.49999999999999933,-0.866025403784439\n",
      "\n",
      "the minimum distance between the charges when  n is 7  is equal to 0.8975979010256552\n",
      "the 1 th coordiantes is  1.0,0.0\n",
      "the 2 th coordiantes is  0.6234898018587336,0.7818314824680298\n",
      "the 3 th coordiantes is  -0.22252093395631434,0.9749279121818236\n",
      "the 4 th coordiantes is  -0.900968867902419,0.43388373911755823\n",
      "the 5 th coordiantes is  -0.9009688679024191,-0.433883739117558\n",
      "the 6 th coordiantes is  -0.2225209339563146,-0.9749279121818236\n",
      "the 7 th coordiantes is  0.6234898018587334,-0.7818314824680299\n",
      "\n",
      "the minimum distance between the charges when  n is 8  is equal to 0.7853981633974483\n",
      "the 1 th coordiantes is  1.0,0.0\n",
      "the 2 th coordiantes is  0.7071067811865476,0.7071067811865475\n",
      "the 3 th coordiantes is  6.123233995736766e-17,1.0\n",
      "the 4 th coordiantes is  -0.7071067811865475,0.7071067811865476\n",
      "the 5 th coordiantes is  -1.0,1.2246467991473532e-16\n",
      "the 6 th coordiantes is  -0.7071067811865477,-0.7071067811865475\n",
      "the 7 th coordiantes is  -1.8369701987210297e-16,-1.0\n",
      "the 8 th coordiantes is  0.7071067811865474,-0.7071067811865477\n",
      "\n",
      "the minimum distance between the charges when  n is 9  is equal to 0.6981317007977318\n",
      "the 1 th coordiantes is  1.0,0.0\n",
      "the 2 th coordiantes is  0.766044443118978,0.6427876096865393\n",
      "the 3 th coordiantes is  0.17364817766693041,0.984807753012208\n",
      "the 4 th coordiantes is  -0.4999999999999998,0.8660254037844387\n",
      "the 5 th coordiantes is  -0.9396926207859083,0.3420201433256689\n",
      "the 6 th coordiantes is  -0.9396926207859084,-0.34202014332566866\n",
      "the 7 th coordiantes is  -0.5000000000000004,-0.8660254037844384\n",
      "the 8 th coordiantes is  0.17364817766692997,-0.9848077530122081\n",
      "the 9 th coordiantes is  0.7660444431189778,-0.6427876096865396\n",
      "\n",
      "the minimum distance between the charges when  n is 10  is equal to 0.6283185307179586\n",
      "the 1 th coordiantes is  1.0,0.0\n",
      "the 2 th coordiantes is  0.8090169943749475,0.5877852522924731\n",
      "the 3 th coordiantes is  0.30901699437494745,0.9510565162951535\n",
      "the 4 th coordiantes is  -0.30901699437494734,0.9510565162951536\n",
      "the 5 th coordiantes is  -0.8090169943749473,0.5877852522924732\n",
      "the 6 th coordiantes is  -1.0,1.2246467991473532e-16\n",
      "the 7 th coordiantes is  -0.8090169943749476,-0.587785252292473\n",
      "the 8 th coordiantes is  -0.30901699437494756,-0.9510565162951535\n",
      "the 9 th coordiantes is  0.30901699437494723,-0.9510565162951536\n",
      "the 10 th coordiantes is  0.8090169943749473,-0.5877852522924734\n",
      "\n",
      "the minimum distance between the charges when  n is 11  is equal to 0.5711986642890533\n",
      "the 1 th coordiantes is  1.0,0.0\n",
      "the 2 th coordiantes is  0.8412535328311812,0.5406408174555976\n",
      "the 3 th coordiantes is  0.41541501300188644,0.9096319953545183\n",
      "the 4 th coordiantes is  -0.142314838273285,0.9898214418809328\n",
      "the 5 th coordiantes is  -0.654860733945285,0.7557495743542583\n",
      "the 6 th coordiantes is  -0.9594929736144974,0.28173255684142967\n",
      "the 7 th coordiantes is  -0.9594929736144974,-0.28173255684142984\n",
      "the 8 th coordiantes is  -0.6548607339452849,-0.7557495743542585\n",
      "the 9 th coordiantes is  -0.14231483827328523,-0.9898214418809327\n",
      "the 10 th coordiantes is  0.41541501300188605,-0.9096319953545186\n",
      "the 11 th coordiantes is  0.8412535328311808,-0.5406408174555982\n",
      "\n",
      "the minimum distance between the charges when  n is 12  is equal to 0.5235987755982988\n",
      "the 1 th coordiantes is  1.0,0.0\n",
      "the 2 th coordiantes is  0.8660254037844387,0.49999999999999994\n",
      "the 3 th coordiantes is  0.5000000000000001,0.8660254037844386\n",
      "the 4 th coordiantes is  6.123233995736766e-17,1.0\n",
      "the 5 th coordiantes is  -0.4999999999999998,0.8660254037844387\n",
      "the 6 th coordiantes is  -0.8660254037844385,0.5000000000000003\n",
      "the 7 th coordiantes is  -1.0,5.66553889764798e-16\n",
      "the 8 th coordiantes is  -0.866025403784439,-0.4999999999999994\n",
      "the 9 th coordiantes is  -0.5000000000000004,-0.8660254037844384\n",
      "the 10 th coordiantes is  -1.8369701987210297e-16,-1.0\n",
      "the 11 th coordiantes is  0.5000000000000001,-0.8660254037844386\n",
      "the 12 th coordiantes is  0.8660254037844388,-0.49999999999999967\n",
      "\n",
      "the minimum distance between the charges when  n is 13  is equal to 0.483321946706122\n",
      "the 1 th coordiantes is  1.0,0.0\n",
      "the 2 th coordiantes is  0.8854560256532099,0.4647231720437685\n",
      "the 3 th coordiantes is  0.5680647467311559,0.8229838658936564\n",
      "the 4 th coordiantes is  0.12053668025532323,0.992708874098054\n",
      "the 5 th coordiantes is  -0.35460488704253545,0.9350162426854148\n",
      "the 6 th coordiantes is  -0.7485107481711009,0.6631226582407955\n",
      "the 7 th coordiantes is  -0.9709418174260519,0.2393156642875581\n",
      "the 8 th coordiantes is  -0.9709418174260521,-0.23931566428755743\n",
      "the 9 th coordiantes is  -0.7485107481711013,-0.663122658240795\n",
      "the 10 th coordiantes is  -0.3546048870425359,-0.9350162426854147\n",
      "the 11 th coordiantes is  0.12053668025532233,-0.9927088740980541\n",
      "the 12 th coordiantes is  0.5680647467311548,-0.822983865893657\n",
      "the 13 th coordiantes is  0.8854560256532091,-0.46472317204376995\n",
      "\n",
      "the minimum distance between the charges when  n is 14  is equal to 0.4487989505128276\n",
      "the 1 th coordiantes is  1.0,0.0\n",
      "the 2 th coordiantes is  0.9009688679024191,0.4338837391175581\n",
      "the 3 th coordiantes is  0.6234898018587336,0.7818314824680298\n",
      "the 4 th coordiantes is  0.22252093395631445,0.9749279121818236\n",
      "the 5 th coordiantes is  -0.22252093395631434,0.9749279121818236\n",
      "the 6 th coordiantes is  -0.6234898018587335,0.7818314824680299\n",
      "the 7 th coordiantes is  -0.900968867902419,0.43388373911755823\n",
      "the 8 th coordiantes is  -1.0,1.2246467991473532e-16\n",
      "the 9 th coordiantes is  -0.9009688679024191,-0.433883739117558\n",
      "the 10 th coordiantes is  -0.6234898018587337,-0.7818314824680297\n",
      "the 11 th coordiantes is  -0.2225209339563146,-0.9749279121818236\n",
      "the 12 th coordiantes is  0.22252093395631423,-0.9749279121818236\n",
      "the 13 th coordiantes is  0.6234898018587334,-0.7818314824680299\n",
      "the 14 th coordiantes is  0.900968867902419,-0.43388373911755834\n",
      "\n",
      "the minimum distance between the charges when  n is 15  is equal to 0.41887902047863906\n",
      "the 1 th coordiantes is  1.0,0.0\n",
      "the 2 th coordiantes is  0.9135454576426009,0.40673664307580015\n",
      "the 3 th coordiantes is  0.6691306063588582,0.7431448254773941\n",
      "the 4 th coordiantes is  0.30901699437494745,0.9510565162951535\n",
      "the 5 th coordiantes is  -0.10452846326765333,0.9945218953682734\n",
      "the 6 th coordiantes is  -0.4999999999999998,0.8660254037844387\n",
      "the 7 th coordiantes is  -0.8090169943749473,0.5877852522924732\n",
      "the 8 th coordiantes is  -0.9781476007338057,0.20791169081775931\n",
      "the 9 th coordiantes is  -0.9781476007338056,-0.2079116908177595\n",
      "the 10 th coordiantes is  -0.8090169943749472,-0.5877852522924734\n",
      "the 11 th coordiantes is  -0.4999999999999996,-0.8660254037844388\n",
      "the 12 th coordiantes is  -0.10452846326765336,-0.9945218953682734\n",
      "the 13 th coordiantes is  0.30901699437494723,-0.9510565162951536\n",
      "the 14 th coordiantes is  0.6691306063588578,-0.7431448254773946\n",
      "the 15 th coordiantes is  0.9135454576426005,-0.40673664307580093\n",
      "\n",
      "the minimum distance between the charges when  n is 16  is equal to 0.39269908169872414\n",
      "the 1 th coordiantes is  1.0,0.0\n",
      "the 2 th coordiantes is  0.9238795325112867,0.3826834323650898\n",
      "the 3 th coordiantes is  0.7071067811865476,0.7071067811865475\n",
      "the 4 th coordiantes is  0.38268343236508984,0.9238795325112867\n",
      "the 5 th coordiantes is  6.123233995736766e-17,1.0\n",
      "the 6 th coordiantes is  -0.3826834323650897,0.9238795325112867\n",
      "the 7 th coordiantes is  -0.7071067811865475,0.7071067811865476\n",
      "the 8 th coordiantes is  -0.9238795325112867,0.3826834323650899\n",
      "the 9 th coordiantes is  -1.0,1.2246467991473532e-16\n",
      "the 10 th coordiantes is  -0.9238795325112868,-0.38268343236508967\n",
      "the 11 th coordiantes is  -0.7071067811865477,-0.7071067811865475\n",
      "the 12 th coordiantes is  -0.38268343236509034,-0.9238795325112865\n",
      "the 13 th coordiantes is  -1.8369701987210297e-16,-1.0\n",
      "the 14 th coordiantes is  0.38268343236509,-0.9238795325112866\n",
      "the 15 th coordiantes is  0.707106781186548,-0.707106781186547\n",
      "the 16 th coordiantes is  0.9238795325112872,-0.3826834323650887\n",
      "\n"
     ]
    }
   ],
   "source": [
    "on_the_disck2(1)"
   ]
  },
  {
   "cell_type": "code",
   "execution_count": null,
   "metadata": {
    "collapsed": true
   },
   "outputs": [],
   "source": []
  },
  {
   "cell_type": "code",
   "execution_count": null,
   "metadata": {
    "collapsed": true
   },
   "outputs": [],
   "source": []
  },
  {
   "cell_type": "code",
   "execution_count": 52,
   "metadata": {
    "collapsed": false
   },
   "outputs": [],
   "source": [
    "def on_the_disck3(radius):\n",
    "    import numpy as np\n",
    "    for n in range(3,17):\n",
    "        theta=(2*np.pi)/(n-1)\n",
    "        arc=radius*theta\n",
    "        alpha=np.random.uniform(0,2*np.pi)\n",
    "        print(\"the minimum distance between the charges when  n is {}  is equal to {}\".format(n,arc))\n",
    "        print(\"the 1 th coordiantes is  {},{}\".format(0,0))\n",
    "\n",
    "        for i in range(n-1):\n",
    "            x=radius*np.cos(alpha)\n",
    "            y=radius*np.sin(alpha)\n",
    "            alpha+=theta\n",
    "            print(\"the {} th coordiantes is  {},{}\".format(i+2,x,y))\n",
    "        print()"
   ]
  },
  {
   "cell_type": "code",
   "execution_count": 55,
   "metadata": {
    "collapsed": false
   },
   "outputs": [
    {
     "name": "stdout",
     "output_type": "stream",
     "text": [
      "the minimum distance between the charges when  n is 3  is equal to 3.141592653589793\n",
      "the 1 th coordiantes is  0,0\n",
      "the 2 th coordiantes is  -0.044691726319899205,-0.9990008256245574\n",
      "the 3 th coordiantes is  0.04469172631989933,0.9990008256245574\n",
      "\n",
      "the minimum distance between the charges when  n is 4  is equal to 2.0943951023931953\n",
      "the 1 th coordiantes is  0,0\n",
      "the 2 th coordiantes is  0.1429055264651548,-0.9897363338312467\n",
      "the 3 th coordiantes is  0.7856840449137583,0.6186279831756363\n",
      "the 4 th coordiantes is  -0.9285895713789123,0.3711083506556111\n",
      "\n",
      "the minimum distance between the charges when  n is 5  is equal to 1.5707963267948966\n",
      "the 1 th coordiantes is  0,0\n",
      "the 2 th coordiantes is  -0.6863636356947493,0.7272585232198282\n",
      "the 3 th coordiantes is  -0.7272585232198282,-0.6863636356947493\n",
      "the 4 th coordiantes is  0.6863636356947493,-0.7272585232198282\n",
      "the 5 th coordiantes is  0.7272585232198283,0.6863636356947492\n",
      "\n",
      "the minimum distance between the charges when  n is 6  is equal to 1.2566370614359172\n",
      "the 1 th coordiantes is  0,0\n",
      "the 2 th coordiantes is  0.7862142057611363,0.6179540619329124\n",
      "the 3 th coordiantes is  -0.3447556865731623,0.938692450473246\n",
      "the 4 th coordiantes is  -0.9992849378781564,-0.037810222557519084\n",
      "the 5 th coordiantes is  -0.27283636948136547,-0.9620604531359908\n",
      "the 6 th coordiantes is  0.830662788171548,-0.5567758367126486\n",
      "\n",
      "the minimum distance between the charges when  n is 7  is equal to 1.0471975511965976\n",
      "the 1 th coordiantes is  0,0\n",
      "the 2 th coordiantes is  -0.9997210529702415,-0.02361813388207443\n",
      "the 3 th coordiantes is  -0.4794066225532622,-0.8775928955113949\n",
      "the 4 th coordiantes is  0.520314430416979,-0.8539747616293205\n",
      "the 5 th coordiantes is  0.9997210529702415,0.023618133882073865\n",
      "the 6 th coordiantes is  0.4794066225532631,0.8775928955113943\n",
      "the 7 th coordiantes is  -0.5203144304169781,0.853974761629321\n",
      "\n",
      "the minimum distance between the charges when  n is 8  is equal to 0.8975979010256552\n",
      "the 1 th coordiantes is  0,0\n",
      "the 2 th coordiantes is  0.9507084089978836,-0.31008631227565153\n",
      "the 3 th coordiantes is  0.8351922387710393,0.549958111401786\n",
      "the 4 th coordiantes is  0.09075927793273118,0.9958728600926572\n",
      "the 5 th coordiantes is  -0.7220172703407988,0.6918750330295363\n",
      "the 6 th coordiantes is  -0.9911000875794677,-0.13311880558347658\n",
      "the 7 th coordiantes is  -0.5138643241133929,-0.8578714684633625\n",
      "the 8 th coordiantes is  0.350321756332005,-0.9366294182014887\n",
      "\n",
      "the minimum distance between the charges when  n is 9  is equal to 0.7853981633974483\n",
      "the 1 th coordiantes is  0,0\n",
      "the 2 th coordiantes is  -0.417925356492896,0.9084813682185704\n",
      "the 3 th coordiantes is  -0.937911189654916,0.34687548244305194\n",
      "the 4 th coordiantes is  -0.9084813682185705,-0.41792535649289597\n",
      "the 5 th coordiantes is  -0.346875482443052,-0.937911189654916\n",
      "the 6 th coordiantes is  0.4179253564928959,-0.9084813682185705\n",
      "the 7 th coordiantes is  0.937911189654916,-0.34687548244305205\n",
      "the 8 th coordiantes is  0.9084813682185705,0.41792535649289586\n",
      "the 9 th coordiantes is  0.3468754824430521,0.937911189654916\n",
      "\n",
      "the minimum distance between the charges when  n is 10  is equal to 0.6981317007977318\n",
      "the 1 th coordiantes is  0,0\n",
      "the 2 th coordiantes is  -0.4372351891613086,0.8993472017853142\n",
      "the 3 th coordiantes is  -0.9130308251069555,0.4078905642504027\n",
      "the 4 th coordiantes is  -0.961609190777729,-0.2744226014959433\n",
      "the 5 th coordiantes is  -0.5602399289878773,-0.8283303821348449\n",
      "the 6 th coordiantes is  0.10327182194866047,-0.9946531711060917\n",
      "the 7 th coordiantes is  0.718461539656965,-0.6955666869781382\n",
      "the 8 th coordiantes is  0.9974751181491861,-0.071016819650469\n",
      "the 9 th coordiantes is  0.8097590031582951,0.5867626068556894\n",
      "the 10 th coordiantes is  0.24314765112076367,0.9699892884740817\n",
      "\n",
      "the minimum distance between the charges when  n is 11  is equal to 0.6283185307179586\n",
      "the 1 th coordiantes is  0,0\n",
      "the 2 th coordiantes is  0.681635124396608,-0.7316922557939374\n",
      "the 3 th coordiantes is  0.9815323167720255,-0.19129639602496487\n",
      "the 4 th coordiantes is  0.9065175251969577,0.42216818510018395\n",
      "the 5 th coordiantes is  0.4852438503940913,0.8743788684859194\n",
      "the 6 th coordiantes is  -0.12137648242744889,0.992606543154708\n",
      "the 7 th coordiantes is  -0.681635124396608,0.7316922557939375\n",
      "the 8 th coordiantes is  -0.9815323167720255,0.19129639602496498\n",
      "the 9 th coordiantes is  -0.9065175251969577,-0.42216818510018383\n",
      "the 10 th coordiantes is  -0.4852438503940914,-0.8743788684859194\n",
      "the 11 th coordiantes is  0.12137648242744876,-0.992606543154708\n",
      "\n",
      "the minimum distance between the charges when  n is 12  is equal to 0.5711986642890533\n",
      "the 1 th coordiantes is  0,0\n",
      "the 2 th coordiantes is  -0.2355847743726796,-0.9718538028344457\n",
      "the 3 th coordiantes is  0.32723731068949213,-0.9449421900268338\n",
      "the 4 th coordiantes is  0.7861638617560999,-0.6180181085281692\n",
      "the 5 th coordiantes is  0.9954889414835549,-0.0948776442790997\n",
      "the 6 th coordiantes is  0.8887533160787275,0.45838580165518367\n",
      "the 7 th coordiantes is  0.4998447924497594,0.8661149943632526\n",
      "the 8 th coordiantes is  -0.047760921047470206,0.9988587960371061\n",
      "the 9 th coordiantes is  -0.5802028795746702,0.8144719875681795\n",
      "the 10 th coordiantes is  -0.9284345233545614,0.3714960778304238\n",
      "the 11 th coordiantes is  -0.9818947659742473,-0.1894272117526364\n",
      "the 12 th coordiantes is  -0.7236103581340017,-0.6902087000329551\n",
      "\n",
      "the minimum distance between the charges when  n is 13  is equal to 0.5235987755982988\n",
      "the 1 th coordiantes is  0,0\n",
      "the 2 th coordiantes is  -0.44841739895335186,0.8938242759714632\n",
      "the 3 th coordiantes is  -0.8352529969782758,0.5498658300338441\n",
      "the 4 th coordiantes is  -0.9982832289871959,0.05857127899318768\n",
      "the 5 th coordiantes is  -0.8938242759714634,-0.4484173989533514\n",
      "the 6 th coordiantes is  -0.5498658300338443,-0.8352529969782757\n",
      "the 7 th coordiantes is  -0.0585712789931873,-0.9982832289871959\n",
      "the 8 th coordiantes is  0.44841739895335214,-0.8938242759714631\n",
      "the 9 th coordiantes is  0.8352529969782763,-0.5498658300338435\n",
      "the 10 th coordiantes is  0.9982832289871959,-0.058571278993186475\n",
      "the 11 th coordiantes is  0.8938242759714627,0.4484173989533529\n",
      "the 12 th coordiantes is  0.5498658300338428,0.8352529969782767\n",
      "the 13 th coordiantes is  0.05857127899318565,0.998283228987196\n",
      "\n",
      "the minimum distance between the charges when  n is 14  is equal to 0.483321946706122\n",
      "the 1 th coordiantes is  0,0\n",
      "the 2 th coordiantes is  0.6459964657129061,-0.7633404000093498\n",
      "the 3 th coordiantes is  0.9267434351576739,-0.37569483013764543\n",
      "the 4 th coordiantes is  0.9951846520769286,0.09801789770507503\n",
      "the 5 th coordiantes is  0.8356410584805458,0.5492759064272827\n",
      "the 6 th coordiantes is  0.484662168952723,0.8747014244792575\n",
      "the 7 th coordiantes is  0.02265301733013968,0.9997433874779269\n",
      "the 8 th coordiantes is  -0.44454566756432623,0.8957561886193071\n",
      "the 9 th coordiantes is  -0.8099042973758618,0.5865620419803107\n",
      "the 10 th coordiantes is  -0.989723613063446,0.14299360036252748\n",
      "the 11 th coordiantes is  -0.9428091764607271,-0.33333295183861666\n",
      "the 12 th coordiantes is  -0.6799085196131369,-0.7332969418710763\n",
      "the 13 th coordiantes is  -0.26124901470808465,-0.9652714397070158\n",
      "the 14 th coordiantes is  0.2172594910746616,-0.9761138834879766\n",
      "\n",
      "the minimum distance between the charges when  n is 15  is equal to 0.4487989505128276\n",
      "the 1 th coordiantes is  0,0\n",
      "the 2 th coordiantes is  0.8959306264998042,0.4441940032234433\n",
      "the 3 th coordiantes is  0.6144770472644494,0.7889346984289407\n",
      "the 4 th coordiantes is  0.2113187527519404,0.9774172009614749\n",
      "the 5 th coordiantes is  -0.2336938123975155,0.972310239608282\n",
      "the 6 th coordiantes is  -0.6324204519351201,0.7746253106981326\n",
      "the 7 th coordiantes is  -0.9058884648391274,0.42351633884823037\n",
      "the 8 th coordiantes is  -0.999934157288818,-0.011475237997597733\n",
      "the 9 th coordiantes is  -0.8959306264998043,-0.44419400322344327\n",
      "the 10 th coordiantes is  -0.6144770472644498,-0.7889346984289404\n",
      "the 11 th coordiantes is  -0.21131875275194095,-0.9774172009614748\n",
      "the 12 th coordiantes is  0.23369381239751494,-0.9723102396082822\n",
      "the 13 th coordiantes is  0.6324204519351196,-0.7746253106981329\n",
      "the 14 th coordiantes is  0.9058884648391271,-0.42351633884823087\n",
      "the 15 th coordiantes is  0.999934157288818,0.011475237997597166\n",
      "\n",
      "the minimum distance between the charges when  n is 16  is equal to 0.41887902047863906\n",
      "the 1 th coordiantes is  0,0\n",
      "the 2 th coordiantes is  0.7438332637129346,-0.6683652263502073\n",
      "the 3 th coordiantes is  0.9513741278227029,-0.3080377718877855\n",
      "the 4 th coordiantes is  0.9944137622693084,0.105552211769339\n",
      "the 5 th coordiantes is  0.8655102232541291,0.5008912590998046\n",
      "the 6 th coordiantes is  0.5869521037247779,0.8096216572776802\n",
      "the 7 th coordiantes is  0.20690463316895025,0.9783611157303944\n",
      "the 8 th coordiantes is  -0.20891852813137254,0.9779330491416173\n",
      "the 9 th coordiantes is  -0.5886177779525368,0.808411474113411\n",
      "the 10 th coordiantes is  -0.8665396665410693,0.49910821102331354\n",
      "the 11 th coordiantes is  -0.9946289745189186,0.10350460399153442\n",
      "the 12 th coordiantes is  -0.9507378968818829,-0.3099958893801886\n",
      "the 13 th coordiantes is  -0.7424555996913282,-0.6698952772538332\n",
      "the 14 th coordiantes is  -0.405795984316769,-0.9139636858827513\n",
      "the 15 th coordiantes is  0.0010294432869435639,-0.9999994701231191\n",
      "the 16 th coordiantes is  0.40767687079414494,-0.9131262612692147\n",
      "\n"
     ]
    }
   ],
   "source": [
    "on_the_disck3(1)"
   ]
  },
  {
   "cell_type": "code",
   "execution_count": null,
   "metadata": {
    "collapsed": true
   },
   "outputs": [],
   "source": []
  }
 ],
 "metadata": {
  "kernelspec": {
   "display_name": "Python 3",
   "language": "python",
   "name": "python3"
  },
  "language_info": {
   "codemirror_mode": {
    "name": "ipython",
    "version": 3
   },
   "file_extension": ".py",
   "mimetype": "text/x-python",
   "name": "python",
   "nbconvert_exporter": "python",
   "pygments_lexer": "ipython3",
   "version": "3.5.3"
  }
 },
 "nbformat": 4,
 "nbformat_minor": 2
}
